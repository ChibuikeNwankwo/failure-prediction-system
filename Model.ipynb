{
 "cells": [
  {
   "cell_type": "code",
   "execution_count": null,
   "id": "2d4c910f",
   "metadata": {},
   "outputs": [],
   "source": [
    "import pandas as pd\n",
    "import os\n",
    "import joblib\n",
    "from sklearn.preprocessing import LabelEncoder\n",
    "from sklearn.model_selection import train_test_split\n",
    "from sklearn.ensemble import VotingClassifier\n",
    "from imblearn.over_sampling import SMOTE\n",
    "from sklearn.metrics import f1_score, make_scorer, classification_report\n",
    "\n",
    "from functions import (clean_impossible_values, remove_target_contradictions, clean_col_names, tune_and_evaluate_stage1_models, \n",
    "                       binary_metrics, evaluate_thresholds, evaluate_thresholds_r, evaluate_metrics, train_stage2_models)\n"
   ]
  },
  {
   "cell_type": "code",
   "execution_count": null,
   "id": "e134ae11",
   "metadata": {},
   "outputs": [
    {
     "name": "stdout",
     "output_type": "stream",
     "text": [
      "No obvious impossible values in Air temperature [K].\n",
      "No obvious impossible values in Process temperature [K].\n",
      "No obvious impossible values in Rotational speed [rpm].\n",
      "No obvious impossible values in Torque [Nm].\n",
      "No obvious impossible values in Tool wear [min].\n",
      "No rows dropped or flagged (no impossible values found).\n"
     ]
    }
   ],
   "source": [
    "df = pd.read_csv('data/predictive_maintenance.csv')\n",
    "df = clean_impossible_values(df, drop=True)"
   ]
  },
  {
   "cell_type": "code",
   "execution_count": null,
   "id": "043a759c",
   "metadata": {},
   "outputs": [
    {
     "name": "stdout",
     "output_type": "stream",
     "text": [
      "Contradictions before cleaning: 27 rows.\n",
      "Contradictions after cleaning: 0 rows.\n",
      "Removed 27 contradictory rows.\n",
      "\n"
     ]
    }
   ],
   "source": [
    "df = remove_target_contradictions(df)\n",
    "df['Temp_diff'] = df['Process temperature [K]'] - df['Air temperature [K]']\n",
    "df['Torque_per_rpm'] = df['Torque [Nm]'] / (df['Rotational speed [rpm]'])  \n",
    "df['Wear_per_rpm'] = df['Tool wear [min]'] / (df['Rotational speed [rpm]'])\n",
    "\n",
    "df.to_csv('data/eval_data.csv')\n",
    "\n",
    "le1 = LabelEncoder()\n",
    "df['Type'] = le1.fit_transform(df['Type'])\n",
    "\n",
    "\n",
    "os.makedirs(\"models\", exist_ok=True)\n",
    "# Save encoder to the folder\n",
    "joblib.dump(le1, \"models/type_encoder.pkl\")\n",
    "\n",
    "feature_columns = [\n",
    "    'Air temperature [K]', 'Process temperature [K]', 'Rotational speed [rpm]',\n",
    "    'Torque [Nm]', 'Tool wear [min]', 'Temp_diff', 'Torque_per_rpm', 'Wear_per_rpm',\n",
    "    'Type'\n",
    "]\n"
   ]
  },
  {
   "cell_type": "code",
   "execution_count": 24,
   "id": "5241a82c",
   "metadata": {},
   "outputs": [
    {
     "name": "stdout",
     "output_type": "stream",
     "text": [
      "Train/val shapes: (7978, 9) (1995, 9)\n"
     ]
    }
   ],
   "source": [
    "X = df[feature_columns]\n",
    "y = df['Target']\n",
    "\n",
    "X = clean_col_names(X)\n",
    "\n",
    "X_train, X_test, y_train, y_test = train_test_split(\n",
    "    X, y, test_size=0.2, stratify=y, random_state=42\n",
    ")\n",
    "print(\"Train/val shapes:\", X_train.shape, X_test.shape)"
   ]
  },
  {
   "cell_type": "code",
   "execution_count": 37,
   "id": "6caf2d7d",
   "metadata": {},
   "outputs": [
    {
     "name": "stdout",
     "output_type": "stream",
     "text": [
      "Fitting 3 folds for each of 100 candidates, totalling 300 fits\n",
      "\n",
      "--- Random Forest Results ---\n",
      "Best Params: {'n_estimators': 250, 'min_samples_split': 2, 'min_samples_leaf': 2, 'max_features': 'log2', 'max_depth': None, 'criterion': 'entropy'}\n",
      "CV F1: 0.8796\n",
      "              precision    recall  f1-score   support\n",
      "\n",
      "           0       0.99      1.00      1.00      1929\n",
      "           1       0.90      0.80      0.85        66\n",
      "\n",
      "    accuracy                           0.99      1995\n",
      "   macro avg       0.95      0.90      0.92      1995\n",
      "weighted avg       0.99      0.99      0.99      1995\n",
      "\n",
      "AUC-PR: 0.8651\n",
      "\n",
      "[LightGBM] [Info] Number of positive: 264, number of negative: 7714\n",
      "[LightGBM] [Info] Auto-choosing col-wise multi-threading, the overhead of testing was 0.000997 seconds.\n",
      "You can set `force_col_wise=true` to remove the overhead.\n",
      "[LightGBM] [Info] Total Bins 1517\n",
      "[LightGBM] [Info] Number of data points in the train set: 7978, number of used features: 9\n",
      "[LightGBM] [Info] [binary:BoostFromScore]: pavg=0.500000 -> initscore=0.000000\n",
      "[LightGBM] [Info] Start training from score 0.000000\n",
      "[LightGBM] [Warning] No further splits with positive gain, best gain: -inf\n",
      "[LightGBM] [Warning] No further splits with positive gain, best gain: -inf\n",
      "[LightGBM] [Warning] No further splits with positive gain, best gain: -inf\n",
      "[LightGBM] [Warning] No further splits with positive gain, best gain: -inf\n",
      "[LightGBM] [Warning] No further splits with positive gain, best gain: -inf\n",
      "[LightGBM] [Warning] No further splits with positive gain, best gain: -inf\n",
      "[LightGBM] [Warning] No further splits with positive gain, best gain: -inf\n",
      "[LightGBM] [Warning] No further splits with positive gain, best gain: -inf\n",
      "[LightGBM] [Warning] No further splits with positive gain, best gain: -inf\n",
      "[LightGBM] [Warning] No further splits with positive gain, best gain: -inf\n",
      "[LightGBM] [Warning] No further splits with positive gain, best gain: -inf\n",
      "[LightGBM] [Warning] No further splits with positive gain, best gain: -inf\n",
      "[LightGBM] [Warning] No further splits with positive gain, best gain: -inf\n",
      "[LightGBM] [Warning] No further splits with positive gain, best gain: -inf\n",
      "[LightGBM] [Warning] No further splits with positive gain, best gain: -inf\n",
      "[LightGBM] [Warning] No further splits with positive gain, best gain: -inf\n",
      "[LightGBM] [Warning] No further splits with positive gain, best gain: -inf\n",
      "[LightGBM] [Warning] No further splits with positive gain, best gain: -inf\n",
      "\n",
      "--- LightGBM Results ---\n",
      "Best Params: {'subsample': 1.0, 'reg_lambda': 0, 'num_leaves': 63, 'n_estimators': 250, 'max_depth': -1, 'learning_rate': 0.05, 'colsample_bytree': 1.0}\n",
      "CV F1: 0.9071\n",
      "              precision    recall  f1-score   support\n",
      "\n",
      "           0       0.99      1.00      1.00      1929\n",
      "           1       0.92      0.82      0.86        66\n",
      "\n",
      "    accuracy                           0.99      1995\n",
      "   macro avg       0.95      0.91      0.93      1995\n",
      "weighted avg       0.99      0.99      0.99      1995\n",
      "\n",
      "AUC-PR: 0.9010\n",
      "\n",
      "Fitting 3 folds for each of 100 candidates, totalling 300 fits\n",
      "\n",
      "--- XGBoost Results ---\n",
      "Best Params: {'subsample': 0.8, 'reg_lambda': 0.1, 'n_estimators': 400, 'max_depth': 15, 'learning_rate': 0.01, 'gamma': 0, 'colsample_bytree': 1.0}\n",
      "CV F1: 0.8877\n",
      "              precision    recall  f1-score   support\n",
      "\n",
      "           0       1.00      0.99      0.99      1929\n",
      "           1       0.79      0.86      0.83        66\n",
      "\n",
      "    accuracy                           0.99      1995\n",
      "   macro avg       0.89      0.93      0.91      1995\n",
      "weighted avg       0.99      0.99      0.99      1995\n",
      "\n",
      "AUC-PR: 0.8913\n",
      "\n"
     ]
    }
   ],
   "source": [
    "f1_macro_scorer = make_scorer(f1_score, average='macro')\n",
    "results = tune_and_evaluate_stage1_models(X_train, y_train, X_test, y_test, f1_macro_scorer)\n",
    "\n",
    "best_rf = results[\"RandomForest\"][\"best_estimator\"]\n",
    "best_lgbm = results[\"LightGBM\"][\"best_estimator\"]\n",
    "best_xgb = results[\"XGBoost\"][\"best_estimator\"]"
   ]
  },
  {
   "cell_type": "code",
   "execution_count": null,
   "id": "b9a78772",
   "metadata": {},
   "outputs": [
    {
     "name": "stdout",
     "output_type": "stream",
     "text": [
      "Voting Classifier Metrics:\n",
      "{'accuracy': 0.9914786967418546, 'precision': 0.8888888888888888, 'recall': 0.8484848484848485, 'f1': 0.8682170542635659, 'roc_auc': 0.9908572505773127, 'mcc': 0.8640660696795754, 'confusion_matrix': array([[1922,    7],\n",
      "       [  10,   56]], dtype=int64), 'AUC_PR': 0.9159300876441053}\n"
     ]
    }
   ],
   "source": [
    "voting = VotingClassifier(estimators=[('lgbm', best_lgbm),('xgb', best_xgb),('rf', best_rf)], \n",
    "                          voting='soft', n_jobs=-1)\n",
    "voting.fit(X_train, y_train)\n",
    "y_pred_voting = voting.predict(X_test)\n",
    "y_proba_voting = voting.predict_proba(X_test)[:, 1]\n",
    "metrics_voting = binary_metrics(y_test, y_pred_voting, y_proba_voting)\n",
    "\n",
    "print(\"Voting Classifier Metrics:\")\n",
    "print(metrics_voting)\n"
   ]
  },
  {
   "cell_type": "code",
   "execution_count": null,
   "id": "d109bce3",
   "metadata": {},
   "outputs": [
    {
     "name": "stdout",
     "output_type": "stream",
     "text": [
      "              precision    recall  f1-score   support\n",
      "\n",
      "           0     0.9948    0.9964    0.9956      1929\n",
      "           1     0.8889    0.8485    0.8682        66\n",
      "\n",
      "    accuracy                         0.9915      1995\n",
      "   macro avg     0.9419    0.9224    0.9319      1995\n",
      "weighted avg     0.9913    0.9915    0.9914      1995\n",
      "\n"
     ]
    }
   ],
   "source": [
    "print(classification_report(y_test, y_pred_voting, digits=4))"
   ]
  },
  {
   "cell_type": "code",
   "execution_count": null,
   "id": "2a3f9d96",
   "metadata": {},
   "outputs": [
    {
     "name": "stdout",
     "output_type": "stream",
     "text": [
      "Best Threshold by F1: 0.515\n",
      "At that threshold — Precision: 0.903, Recall: 0.848, F1: 0.875\n",
      "=== Classification Report: Threshold-Tuned Voting Classifier ===\n",
      "              precision    recall  f1-score   support\n",
      "\n",
      "           0       0.99      1.00      1.00      1929\n",
      "           1       0.90      0.85      0.88        66\n",
      "\n",
      "    accuracy                           0.99      1995\n",
      "   macro avg       0.95      0.92      0.94      1995\n",
      "weighted avg       0.99      0.99      0.99      1995\n",
      "\n"
     ]
    }
   ],
   "source": [
    "best_threshold, results_f1 = evaluate_thresholds(y_test, y_proba_voting)\n",
    "\n",
    "y_pred_thresh = (y_proba_voting >= best_threshold).astype(int)\n",
    "\n",
    "metrics_voting_tuned = binary_metrics(y_test, y_pred_thresh, y_proba_voting)\n",
    "metrics_voting_tuned\n",
    "print(\"=== Classification Report: Threshold-Tuned Voting Classifier ===\")\n",
    "print(classification_report(y_test, y_pred_thresh))"
   ]
  },
  {
   "cell_type": "code",
   "execution_count": null,
   "id": "e298313f",
   "metadata": {},
   "outputs": [
    {
     "name": "stdout",
     "output_type": "stream",
     "text": [
      "=== Classification Report: Threshold-Tuned Voting Classifier ===\n",
      "              precision    recall  f1-score   support\n",
      "\n",
      "           0       0.99      1.00      1.00      1929\n",
      "           1       0.90      0.85      0.88        66\n",
      "\n",
      "    accuracy                           0.99      1995\n",
      "   macro avg       0.95      0.92      0.94      1995\n",
      "weighted avg       0.99      0.99      0.99      1995\n",
      "\n"
     ]
    }
   ],
   "source": [
    "print(\"=== Classification Report: Threshold-Tuned Voting Classifier ===\")\n",
    "print(classification_report(y_test, y_pred_thresh))"
   ]
  },
  {
   "cell_type": "code",
   "execution_count": null,
   "id": "98531b28",
   "metadata": {},
   "outputs": [
    {
     "name": "stdout",
     "output_type": "stream",
     "text": [
      "\n",
      "Best Threshold for Recall (Precision ≥ 0.9): 0.515\n",
      "Precision: 0.903, Recall: 0.848, F1: 0.875\n",
      "\n",
      "Best Threshold by F1: 0.515\n",
      "At that threshold — Precision: 0.903, Recall: 0.848, F1: 0.875\n"
     ]
    },
    {
     "data": {
      "text/plain": [
       "{'accuracy': 0.9919799498746867,\n",
       " 'precision': 0.9032258064516129,\n",
       " 'recall': 0.8484848484848485,\n",
       " 'f1': 0.875,\n",
       " 'roc_auc': 0.9908572505773127,\n",
       " 'mcc': 0.8713154535644742,\n",
       " 'confusion_matrix': array([[1923,    6],\n",
       "        [  10,   56]], dtype=int64),\n",
       " 'AUC_PR': 0.9159300876441053}"
      ]
     },
     "execution_count": 13,
     "metadata": {},
     "output_type": "execute_result"
    }
   ],
   "source": [
    "thresholds_info = evaluate_thresholds_r(y_test, y_proba_voting, min_precision=0.9)\n",
    "best_threshold_recall = thresholds_info[\"best_threshold_recall\"]\n",
    "y_pred_thresh_r = (y_proba_voting >= best_threshold_recall).astype(int)\n",
    "metrics_voting_tuned_r = binary_metrics(y_test, y_pred_thresh_r, y_proba_voting)\n",
    "metrics_voting_tuned_r"
   ]
  },
  {
   "cell_type": "code",
   "execution_count": null,
   "id": "e51f04ff",
   "metadata": {},
   "outputs": [
    {
     "name": "stdout",
     "output_type": "stream",
     "text": [
      "✅ Voting1 thresholds saved successfully.\n"
     ]
    }
   ],
   "source": [
    "# Save the first voting ensemble\n",
    "joblib.dump(voting, \"models/voting_stage1_model.pkl\")\n",
    "\n",
    "# Save both thresholds together\n",
    "thresholds_data = {\n",
    "    \"best_threshold_f1\": float(best_threshold),\n",
    "    \"best_threshold_recall\": float(thresholds_info[\"best_threshold_recall\"]),\n",
    "    \"results_f1\": results_f1,\n",
    "    \"results_recall\": thresholds_info[\"results\"]\n",
    "}\n",
    "\n",
    "joblib.dump(thresholds_data, \"models/voting_stage1_thresholds.pkl\")\n",
    "\n",
    "print(\"✅ Voting1 thresholds saved successfully.\")\n"
   ]
  },
  {
   "cell_type": "markdown",
   "id": "63da5641",
   "metadata": {},
   "source": [
    "# STAGE 2 "
   ]
  },
  {
   "cell_type": "code",
   "execution_count": null,
   "id": "1462b413",
   "metadata": {},
   "outputs": [
    {
     "name": "stdout",
     "output_type": "stream",
     "text": [
      "Total failure samples: 330\n",
      "\n",
      "Failure types and their new encoded labels:\n",
      "- Heat Dissipation Failure: 0\n",
      "- Overstrain Failure: 1\n",
      "- Power Failure: 2\n",
      "- Tool Wear Failure: 3\n",
      "\n",
      "Shape of Stage 2 training data: (264, 9)\n",
      "Shape of Stage 2 testing data: (66, 9)\n"
     ]
    }
   ],
   "source": [
    "# Prepare dataset for Stage 2\n",
    "df_failures = df[df['Target']==1].copy()\n",
    "print(\"Total failure samples:\", len(df_failures))\n",
    "df_failures['Failure Type'].value_counts()\n",
    "\n",
    "# Split failures for training stage2\n",
    "X2 = df_failures[feature_columns]\n",
    "y2 = df_failures['Failure Type']\n",
    "X2 = clean_col_names(X2)\n",
    "\n",
    "le2 = LabelEncoder()\n",
    "y2 = le2.fit_transform(y2)\n",
    "\n",
    "print(\"\\nFailure types and their new encoded labels:\")\n",
    "for i, class_name in enumerate(le2.classes_):\n",
    "    print(f\"- {class_name}: {i}\")\n",
    "\n",
    "joblib.dump(le2, \"models/failure_type_encoder.pkl\")\n",
    "\n",
    "X2_train, X2_test, y2_train, y2_test = train_test_split(X2, y2, test_size=0.2, stratify=y2, random_state=42)\n",
    "print(\"\\nShape of Stage 2 training data:\", X2_train.shape)\n",
    "print(\"Shape of Stage 2 testing data:\", X2_test.shape)"
   ]
  },
  {
   "cell_type": "code",
   "execution_count": 35,
   "id": "6c39dbbe",
   "metadata": {},
   "outputs": [
    {
     "name": "stdout",
     "output_type": "stream",
     "text": [
      "- H: 0\n",
      "- L: 1\n",
      "- M: 2\n"
     ]
    },
    {
     "data": {
      "text/html": [
       "<div>\n",
       "<style scoped>\n",
       "    .dataframe tbody tr th:only-of-type {\n",
       "        vertical-align: middle;\n",
       "    }\n",
       "\n",
       "    .dataframe tbody tr th {\n",
       "        vertical-align: top;\n",
       "    }\n",
       "\n",
       "    .dataframe thead th {\n",
       "        text-align: right;\n",
       "    }\n",
       "</style>\n",
       "<table border=\"1\" class=\"dataframe\">\n",
       "  <thead>\n",
       "    <tr style=\"text-align: right;\">\n",
       "      <th></th>\n",
       "      <th>UDI</th>\n",
       "      <th>Product ID</th>\n",
       "      <th>Type</th>\n",
       "      <th>Air temperature [K]</th>\n",
       "      <th>Process temperature [K]</th>\n",
       "      <th>Rotational speed [rpm]</th>\n",
       "      <th>Torque [Nm]</th>\n",
       "      <th>Tool wear [min]</th>\n",
       "      <th>Target</th>\n",
       "      <th>Failure Type</th>\n",
       "      <th>Temp_diff</th>\n",
       "      <th>Torque_per_rpm</th>\n",
       "      <th>Wear_per_rpm</th>\n",
       "    </tr>\n",
       "  </thead>\n",
       "  <tbody>\n",
       "    <tr>\n",
       "      <th>50</th>\n",
       "      <td>51</td>\n",
       "      <td>L47230</td>\n",
       "      <td>1</td>\n",
       "      <td>298.9</td>\n",
       "      <td>309.1</td>\n",
       "      <td>2861</td>\n",
       "      <td>4.6</td>\n",
       "      <td>143</td>\n",
       "      <td>1</td>\n",
       "      <td>Power Failure</td>\n",
       "      <td>10.2</td>\n",
       "      <td>0.001608</td>\n",
       "      <td>0.049983</td>\n",
       "    </tr>\n",
       "    <tr>\n",
       "      <th>69</th>\n",
       "      <td>70</td>\n",
       "      <td>L47249</td>\n",
       "      <td>1</td>\n",
       "      <td>298.9</td>\n",
       "      <td>309.0</td>\n",
       "      <td>1410</td>\n",
       "      <td>65.7</td>\n",
       "      <td>191</td>\n",
       "      <td>1</td>\n",
       "      <td>Power Failure</td>\n",
       "      <td>10.1</td>\n",
       "      <td>0.046596</td>\n",
       "      <td>0.135461</td>\n",
       "    </tr>\n",
       "    <tr>\n",
       "      <th>77</th>\n",
       "      <td>78</td>\n",
       "      <td>L47257</td>\n",
       "      <td>1</td>\n",
       "      <td>298.8</td>\n",
       "      <td>308.9</td>\n",
       "      <td>1455</td>\n",
       "      <td>41.3</td>\n",
       "      <td>208</td>\n",
       "      <td>1</td>\n",
       "      <td>Tool Wear Failure</td>\n",
       "      <td>10.1</td>\n",
       "      <td>0.028385</td>\n",
       "      <td>0.142955</td>\n",
       "    </tr>\n",
       "    <tr>\n",
       "      <th>160</th>\n",
       "      <td>161</td>\n",
       "      <td>L47340</td>\n",
       "      <td>1</td>\n",
       "      <td>298.4</td>\n",
       "      <td>308.2</td>\n",
       "      <td>1282</td>\n",
       "      <td>60.7</td>\n",
       "      <td>216</td>\n",
       "      <td>1</td>\n",
       "      <td>Overstrain Failure</td>\n",
       "      <td>9.8</td>\n",
       "      <td>0.047348</td>\n",
       "      <td>0.168487</td>\n",
       "    </tr>\n",
       "    <tr>\n",
       "      <th>161</th>\n",
       "      <td>162</td>\n",
       "      <td>L47341</td>\n",
       "      <td>1</td>\n",
       "      <td>298.3</td>\n",
       "      <td>308.1</td>\n",
       "      <td>1412</td>\n",
       "      <td>52.3</td>\n",
       "      <td>218</td>\n",
       "      <td>1</td>\n",
       "      <td>Overstrain Failure</td>\n",
       "      <td>9.8</td>\n",
       "      <td>0.037040</td>\n",
       "      <td>0.154391</td>\n",
       "    </tr>\n",
       "    <tr>\n",
       "      <th>...</th>\n",
       "      <td>...</td>\n",
       "      <td>...</td>\n",
       "      <td>...</td>\n",
       "      <td>...</td>\n",
       "      <td>...</td>\n",
       "      <td>...</td>\n",
       "      <td>...</td>\n",
       "      <td>...</td>\n",
       "      <td>...</td>\n",
       "      <td>...</td>\n",
       "      <td>...</td>\n",
       "      <td>...</td>\n",
       "      <td>...</td>\n",
       "    </tr>\n",
       "    <tr>\n",
       "      <th>9758</th>\n",
       "      <td>9759</td>\n",
       "      <td>L56938</td>\n",
       "      <td>1</td>\n",
       "      <td>298.6</td>\n",
       "      <td>309.8</td>\n",
       "      <td>2271</td>\n",
       "      <td>16.2</td>\n",
       "      <td>218</td>\n",
       "      <td>1</td>\n",
       "      <td>Tool Wear Failure</td>\n",
       "      <td>11.2</td>\n",
       "      <td>0.007133</td>\n",
       "      <td>0.095993</td>\n",
       "    </tr>\n",
       "    <tr>\n",
       "      <th>9764</th>\n",
       "      <td>9765</td>\n",
       "      <td>L56944</td>\n",
       "      <td>1</td>\n",
       "      <td>298.5</td>\n",
       "      <td>309.5</td>\n",
       "      <td>1294</td>\n",
       "      <td>66.7</td>\n",
       "      <td>12</td>\n",
       "      <td>1</td>\n",
       "      <td>Power Failure</td>\n",
       "      <td>11.0</td>\n",
       "      <td>0.051546</td>\n",
       "      <td>0.009274</td>\n",
       "    </tr>\n",
       "    <tr>\n",
       "      <th>9822</th>\n",
       "      <td>9823</td>\n",
       "      <td>L57002</td>\n",
       "      <td>1</td>\n",
       "      <td>298.5</td>\n",
       "      <td>309.4</td>\n",
       "      <td>1360</td>\n",
       "      <td>60.9</td>\n",
       "      <td>187</td>\n",
       "      <td>1</td>\n",
       "      <td>Overstrain Failure</td>\n",
       "      <td>10.9</td>\n",
       "      <td>0.044779</td>\n",
       "      <td>0.137500</td>\n",
       "    </tr>\n",
       "    <tr>\n",
       "      <th>9830</th>\n",
       "      <td>9831</td>\n",
       "      <td>L57010</td>\n",
       "      <td>1</td>\n",
       "      <td>298.3</td>\n",
       "      <td>309.3</td>\n",
       "      <td>1337</td>\n",
       "      <td>56.1</td>\n",
       "      <td>206</td>\n",
       "      <td>1</td>\n",
       "      <td>Overstrain Failure</td>\n",
       "      <td>11.0</td>\n",
       "      <td>0.041960</td>\n",
       "      <td>0.154076</td>\n",
       "    </tr>\n",
       "    <tr>\n",
       "      <th>9974</th>\n",
       "      <td>9975</td>\n",
       "      <td>L57154</td>\n",
       "      <td>1</td>\n",
       "      <td>298.6</td>\n",
       "      <td>308.2</td>\n",
       "      <td>1361</td>\n",
       "      <td>68.2</td>\n",
       "      <td>172</td>\n",
       "      <td>1</td>\n",
       "      <td>Power Failure</td>\n",
       "      <td>9.6</td>\n",
       "      <td>0.050110</td>\n",
       "      <td>0.126378</td>\n",
       "    </tr>\n",
       "  </tbody>\n",
       "</table>\n",
       "<p>330 rows × 13 columns</p>\n",
       "</div>"
      ],
      "text/plain": [
       "       UDI Product ID  Type  Air temperature [K]  Process temperature [K]  \\\n",
       "50      51     L47230     1                298.9                    309.1   \n",
       "69      70     L47249     1                298.9                    309.0   \n",
       "77      78     L47257     1                298.8                    308.9   \n",
       "160    161     L47340     1                298.4                    308.2   \n",
       "161    162     L47341     1                298.3                    308.1   \n",
       "...    ...        ...   ...                  ...                      ...   \n",
       "9758  9759     L56938     1                298.6                    309.8   \n",
       "9764  9765     L56944     1                298.5                    309.5   \n",
       "9822  9823     L57002     1                298.5                    309.4   \n",
       "9830  9831     L57010     1                298.3                    309.3   \n",
       "9974  9975     L57154     1                298.6                    308.2   \n",
       "\n",
       "      Rotational speed [rpm]  Torque [Nm]  Tool wear [min]  Target  \\\n",
       "50                      2861          4.6              143       1   \n",
       "69                      1410         65.7              191       1   \n",
       "77                      1455         41.3              208       1   \n",
       "160                     1282         60.7              216       1   \n",
       "161                     1412         52.3              218       1   \n",
       "...                      ...          ...              ...     ...   \n",
       "9758                    2271         16.2              218       1   \n",
       "9764                    1294         66.7               12       1   \n",
       "9822                    1360         60.9              187       1   \n",
       "9830                    1337         56.1              206       1   \n",
       "9974                    1361         68.2              172       1   \n",
       "\n",
       "            Failure Type  Temp_diff  Torque_per_rpm  Wear_per_rpm  \n",
       "50         Power Failure       10.2        0.001608      0.049983  \n",
       "69         Power Failure       10.1        0.046596      0.135461  \n",
       "77     Tool Wear Failure       10.1        0.028385      0.142955  \n",
       "160   Overstrain Failure        9.8        0.047348      0.168487  \n",
       "161   Overstrain Failure        9.8        0.037040      0.154391  \n",
       "...                  ...        ...             ...           ...  \n",
       "9758   Tool Wear Failure       11.2        0.007133      0.095993  \n",
       "9764       Power Failure       11.0        0.051546      0.009274  \n",
       "9822  Overstrain Failure       10.9        0.044779      0.137500  \n",
       "9830  Overstrain Failure       11.0        0.041960      0.154076  \n",
       "9974       Power Failure        9.6        0.050110      0.126378  \n",
       "\n",
       "[330 rows x 13 columns]"
      ]
     },
     "execution_count": 35,
     "metadata": {},
     "output_type": "execute_result"
    }
   ],
   "source": [
    "for i, class_name in enumerate(le1.classes_):\n",
    "    print(f\"- {class_name}: {i}\")\n",
    "\n",
    "df_failures"
   ]
  },
  {
   "cell_type": "code",
   "execution_count": null,
   "id": "c3fc6c3e",
   "metadata": {},
   "outputs": [
    {
     "name": "stdout",
     "output_type": "stream",
     "text": [
      "\n",
      "Class distribution before SMOTE:\n",
      "0    90\n",
      "2    76\n",
      "1    62\n",
      "3    36\n",
      "Name: count, dtype: int64\n",
      "\n",
      "Class distribution after SMOTE:\n",
      "3    90\n",
      "1    90\n",
      "0    90\n",
      "2    90\n",
      "Name: count, dtype: int64\n",
      "\n",
      "Shape of resampled training data: (360, 9)\n"
     ]
    }
   ],
   "source": [
    "smote = SMOTE(random_state=42)\n",
    "\n",
    "print(\"\\nClass distribution before SMOTE:\")\n",
    "print(pd.Series(y2_train).value_counts())\n",
    "\n",
    "X_train_smote, y_train_smote = smote.fit_resample(X2_train, y2_train)\n",
    "\n",
    "print(\"\\nClass distribution after SMOTE:\")\n",
    "print(pd.Series(y_train_smote).value_counts())\n",
    "print(\"\\nShape of resampled training data:\", X_train_smote.shape)"
   ]
  },
  {
   "cell_type": "code",
   "execution_count": 1,
   "id": "984f0d23",
   "metadata": {},
   "outputs": [
    {
     "ename": "NameError",
     "evalue": "name 'train_stage2_models' is not defined",
     "output_type": "error",
     "traceback": [
      "\u001b[31m---------------------------------------------------------------------------\u001b[39m",
      "\u001b[31mNameError\u001b[39m                                 Traceback (most recent call last)",
      "\u001b[36mCell\u001b[39m\u001b[36m \u001b[39m\u001b[32mIn[1]\u001b[39m\u001b[32m, line 1\u001b[39m\n\u001b[32m----> \u001b[39m\u001b[32m1\u001b[39m stage2_results = \u001b[43mtrain_stage2_models\u001b[49m(X_train_smote, y_train_smote, X2_test, y2_test, le2)\n",
      "\u001b[31mNameError\u001b[39m: name 'train_stage2_models' is not defined"
     ]
    }
   ],
   "source": [
    "stage2_results = train_stage2_models(X_train_smote, y_train_smote, X2_test, y2_test, le2)\n"
   ]
  },
  {
   "cell_type": "code",
   "execution_count": null,
   "id": "d2845f6c",
   "metadata": {},
   "outputs": [
    {
     "name": "stdout",
     "output_type": "stream",
     "text": [
      "\n",
      "Voting Classifier Metrics:\n",
      "Accuracy: 0.9090909090909091\n",
      "Precision: 0.9077020202020202\n",
      "Recall: 0.9090909090909091\n",
      "F1: 0.9071908758403272\n",
      "MCC: 0.8753385807049933\n",
      "ROC_AUC: 0.9843723913264787\n",
      "Confusion_Matrix: [[22  0  0  0]\n",
      " [ 1 13  1  1]\n",
      " [ 1  0 18  0]\n",
      " [ 0  2  0  7]]\n",
      "AUC_PR: 0.9275081266866959\n"
     ]
    }
   ],
   "source": [
    "# Extract the best models\n",
    "rf2_best = stage2_results[\"rf\"][\"model\"]\n",
    "xgb2_best = stage2_results[\"xgb\"][\"model\"]\n",
    "lgb2_best = stage2_results[\"lgbm\"][\"model\"]\n",
    "\n",
    "# Include them in the VotingClassifier\n",
    "voting2 = VotingClassifier(\n",
    "    estimators=[('lgbm', lgb2_best), ('xgb', xgb2_best), ('rf', rf2_best)],\n",
    "    voting='soft',\n",
    "    n_jobs=-1\n",
    ")\n",
    "\n",
    "# Fit and evaluate\n",
    "voting2.fit(X_train_smote, y_train_smote)\n",
    "y_pred_voting2 = voting2.predict(X2_test)\n",
    "y_proba_voting2 = voting2.predict_proba(X2_test)\n",
    "metrics_voting2 = evaluate_metrics(y2_test, y_pred_voting2, y_proba_voting2)\n",
    "\n",
    "print(\"\\nVoting Classifier Metrics:\")\n",
    "for k, v in metrics_voting2.items():\n",
    "    print(f\"{k}: {v}\")"
   ]
  },
  {
   "cell_type": "code",
   "execution_count": null,
   "id": "4f54145e",
   "metadata": {},
   "outputs": [
    {
     "name": "stdout",
     "output_type": "stream",
     "text": [
      "\n",
      "=== Per-Class F1 + Support Summary ===\n",
      "  Class  precision  recall  f1-score  support\n",
      "0     0      0.917   1.000     0.957     22.0\n",
      "1     1      0.867   0.812     0.839     16.0\n",
      "2     2      0.947   0.947     0.947     19.0\n",
      "3     3      0.875   0.778     0.824      9.0\n"
     ]
    }
   ],
   "source": [
    "report = classification_report(y2_test, y_pred_voting2, output_dict=True)\n",
    "report_df = pd.DataFrame(report).transpose()\n",
    "\n",
    "# keep only class rows (drop avg/total)\n",
    "class_report_df = report_df.iloc[:-3, :][['precision', 'recall', 'f1-score', 'support']].reset_index()\n",
    "class_report_df.rename(columns={'index': 'Class'}, inplace=True)\n",
    "\n",
    "# print table\n",
    "print(\"\\n=== Per-Class F1 + Support Summary ===\")\n",
    "print(class_report_df.round(3))"
   ]
  },
  {
   "cell_type": "code",
   "execution_count": null,
   "id": "3f613d46",
   "metadata": {},
   "outputs": [
    {
     "name": "stdout",
     "output_type": "stream",
     "text": [
      "✅ Both voting ensemble models saved successfully.\n"
     ]
    }
   ],
   "source": [
    "# Save the second voting ensemble\n",
    "joblib.dump(voting2, \"models/voting_stage2_model.pkl\")\n",
    "\n",
    "print(\"✅ Both voting ensemble models saved successfully.\")\n"
   ]
  }
 ],
 "metadata": {
  "kernelspec": {
   "display_name": "Python 3",
   "language": "python",
   "name": "python3"
  },
  "language_info": {
   "codemirror_mode": {
    "name": "ipython",
    "version": 3
   },
   "file_extension": ".py",
   "mimetype": "text/x-python",
   "name": "python",
   "nbconvert_exporter": "python",
   "pygments_lexer": "ipython3",
   "version": "3.11.4"
  }
 },
 "nbformat": 4,
 "nbformat_minor": 5
}
